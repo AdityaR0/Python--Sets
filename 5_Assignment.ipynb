{
 "cells": [
  {
   "cell_type": "code",
   "execution_count": null,
   "id": "7ea53569-8658-48df-a348-9f38d38b9a83",
   "metadata": {},
   "outputs": [],
   "source": [
    "Python- Sets Assignment Questions:\n",
    "\n",
    "Q1. What is a set in Python?\n",
    "\n",
    "Ans:)A set is a data collection type used in Python for storing multiple items in a single variable.\n",
    "Sets in Python are unordered and, as such, are not always consistent in the order they get returned. \n",
    "Set is one of 4 built-in data types in Python used to store collections of data.\n",
    "It is a collection that is written with curly brackets and is both unindexed and unordered.\n",
    "Set items are unchangeable, but you can remove items and add new items.\n",
    "\n",
    "Q2.How do you create a set in Python?\n",
    "\n",
    "Ans:)Sets are written with curly brackets.\n",
    "\n",
    "thisset = {\"apple\", \"banana\", \"cherry\"}\n",
    "print(thisset)\n",
    "\n",
    "Q3. How do you add elements to a set in Python?\n",
    "\n",
    "Ans:)To add one item to a set use the add() method.\n",
    "\n",
    "thisset = {\"apple\", \"banana\", \"cherry\"}\n",
    "thisset.add(\"orange\")\n",
    "print(thisset)\n",
    "\n",
    "Q4. How do you remove elements from a set in Python?\n",
    "\n",
    "Ans:)To remove an item in a set, use the remove(), or the discard() method.\n",
    "\n",
    "thisset = {\"apple\", \"banana\", \"cherry\"}\n",
    "thisset.remove(\"banana\")\n",
    "print(thisset)\n",
    "\n",
    "Q5. How do you get the length of a set in Python?\n",
    "\n",
    "Ans:)To determine how many items a set has, use the len() method.\n",
    "\n",
    "thisset = {\"apple\", \"banana\", \"cherry\"}\n",
    "print(len(thisset))"
   ]
  }
 ],
 "metadata": {
  "kernelspec": {
   "display_name": "Python 3 (ipykernel)",
   "language": "python",
   "name": "python3"
  },
  "language_info": {
   "codemirror_mode": {
    "name": "ipython",
    "version": 3
   },
   "file_extension": ".py",
   "mimetype": "text/x-python",
   "name": "python",
   "nbconvert_exporter": "python",
   "pygments_lexer": "ipython3",
   "version": "3.10.8"
  }
 },
 "nbformat": 4,
 "nbformat_minor": 5
}
